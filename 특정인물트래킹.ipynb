{
 "cells": [
  {
   "cell_type": "code",
   "execution_count": 1,
   "id": "5cf3d6db",
   "metadata": {},
   "outputs": [],
   "source": [
    "import cv2\n",
    "import numpy as np"
   ]
  },
  {
   "cell_type": "code",
   "execution_count": 2,
   "id": "61e3d3c6",
   "metadata": {},
   "outputs": [
    {
     "ename": "error",
     "evalue": "OpenCV(4.6.0) D:\\a\\opencv-python\\opencv-python\\opencv\\modules\\imgproc\\src\\color.cpp:182: error: (-215:Assertion failed) !_src.empty() in function 'cv::cvtColor'\n",
     "output_type": "error",
     "traceback": [
      "\u001b[1;31m---------------------------------------------------------------------------\u001b[0m",
      "\u001b[1;31merror\u001b[0m                                     Traceback (most recent call last)",
      "Input \u001b[1;32mIn [2]\u001b[0m, in \u001b[0;36m<cell line: 24>\u001b[1;34m()\u001b[0m\n\u001b[0;32m     27\u001b[0m     exit()\n\u001b[0;32m     29\u001b[0m \u001b[38;5;66;03m# success : 영상에서 트래킹의 성공여부 , box: 대상에 대한 정보\u001b[39;00m\n\u001b[1;32m---> 30\u001b[0m success, box \u001b[38;5;241m=\u001b[39m \u001b[43mtracker\u001b[49m\u001b[38;5;241;43m.\u001b[39;49m\u001b[43mupdate\u001b[49m\u001b[43m(\u001b[49m\u001b[43mimg\u001b[49m\u001b[43m)\u001b[49m\n\u001b[0;32m     32\u001b[0m left, top, w, h\u001b[38;5;241m=\u001b[39m [\u001b[38;5;28mint\u001b[39m(v) \u001b[38;5;28;01mfor\u001b[39;00m v \u001b[38;5;129;01min\u001b[39;00m box]\n\u001b[0;32m     34\u001b[0m cv2\u001b[38;5;241m.\u001b[39mrectangle(img, pt1\u001b[38;5;241m=\u001b[39m(left, top), pt2\u001b[38;5;241m=\u001b[39m(left\u001b[38;5;241m+\u001b[39mw, top\u001b[38;5;241m+\u001b[39mh), color\u001b[38;5;241m=\u001b[39m(\u001b[38;5;241m255\u001b[39m,\u001b[38;5;241m255\u001b[39m,\u001b[38;5;241m255\u001b[39m), thickness\u001b[38;5;241m=\u001b[39m\u001b[38;5;241m3\u001b[39m)\n",
      "\u001b[1;31merror\u001b[0m: OpenCV(4.6.0) D:\\a\\opencv-python\\opencv-python\\opencv\\modules\\imgproc\\src\\color.cpp:182: error: (-215:Assertion failed) !_src.empty() in function 'cv::cvtColor'\n"
     ]
    }
   ],
   "source": [
    "video_path='data/baby_1.mp4'\n",
    "cap=cv2.VideoCapture(video_path)\n",
    "\n",
    "if not cap.isOpened():\n",
    "    exit()\n",
    "    \n",
    "tracker=cv2.TrackerCSRT_create() # ROI를 설정 , CSRT를 사용허겠다고 선언\n",
    "\n",
    "#img 변수에 첫번째 프레임을 읽어온다.\n",
    "ret, img = cap.read()# 화면 이미지는 imgresd를 쓴다.\n",
    "\n",
    "\n",
    "cv2.namedWindow('Select Window')\n",
    "cv2.imshow('Select Window', img)\n",
    "\n",
    "rect=cv2.selectROI('Select Window', img, fromCenter=False, showCrosshair= True)\n",
    "cv2.destroyWindow('Select Window')\n",
    "\n",
    "#초기화한다.\n",
    "# img: 처리를 위한 영상 , rect: 영상에서 추척하고 싶은 대상\n",
    "tracker.init(img,rect)\n",
    "\n",
    "while True:\n",
    "    ret,img=cap.read()\n",
    "    \n",
    "    if not ret:\n",
    "        exit()\n",
    "        \n",
    "    # success : 영상에서 트래킹의 성공여부 , box: 대상에 대한 정보\n",
    "    success, box = tracker.update(img)\n",
    "\n",
    "    left, top, w, h= [int(v) for v in box]\n",
    "\n",
    "    cv2.rectangle(img, pt1=(left, top), pt2=(left+w, top+h), color=(255,255,255), thickness=3)\n",
    "\n",
    "    cv2.imshow('img', img)\n",
    "\n",
    "    if cv2.waitKey(1) ==ord('q'): # 1초기다렸다가 한프레임씩 변수에 넣고 찍는다.\n",
    "        break"
   ]
  },
  {
   "cell_type": "markdown",
   "id": "c73f84cd",
   "metadata": {},
   "source": [
    "# www.opencv.org 에서 Documentation에서  4.6 다운로드 받아서 함수사용방법이나 설명을 볼수있다."
   ]
  },
  {
   "cell_type": "code",
   "execution_count": null,
   "id": "bc2c1d1a",
   "metadata": {},
   "outputs": [],
   "source": []
  }
 ],
 "metadata": {
  "kernelspec": {
   "display_name": "Python 3 (ipykernel)",
   "language": "python",
   "name": "python3"
  },
  "language_info": {
   "codemirror_mode": {
    "name": "ipython",
    "version": 3
   },
   "file_extension": ".py",
   "mimetype": "text/x-python",
   "name": "python",
   "nbconvert_exporter": "python",
   "pygments_lexer": "ipython3",
   "version": "3.9.12"
  }
 },
 "nbformat": 4,
 "nbformat_minor": 5
}
