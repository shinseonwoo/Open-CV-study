{
 "cells": [
  {
   "cell_type": "markdown",
   "id": "1a6a16f1",
   "metadata": {},
   "source": [
    "# [프로젝트] 특정인물 트래킹 하기"
   ]
  },
  {
   "cell_type": "markdown",
   "id": "fda83e39",
   "metadata": {},
   "source": [
    "[준비사항]\n",
    "\n",
    "* opencv-contrib-python 설치 확인: opencv에서 제공하는 오브젝트 트래킹하는 기능이 들어가 있다."
   ]
  },
  {
   "cell_type": "markdown",
   "id": "72abe476",
   "metadata": {},
   "source": [
    "[작업순서]\n",
    "\n",
    "* 작업의 순서와 코드의 위치는 다소 차이가 있을 수 있다. \n",
    "* 크게 동작하는지 여부를 확인하고 부분부분을 개발하는 방식으로 진행하였다.\n",
    "\n",
    "[단계1] 준비단계 \n",
    "\n",
    "    - 필요한 라이브러리를 로딩한다.\n",
    "    - 사용할 비디오 파일을 읽어온다.\n",
    "    - 비디오 파일이 잘 읽혔는지 확인하고 화면에 출력하는 부분을 만든다.\n",
    "    \n",
    "[단계2] ROI를 지정한다.\n",
    "\n",
    "    - 첫번째 프레임에서 ROI를 설정한다.\n",
    "    - 첫화면을 불러온다음에 마우스 드레그로 ROI를 정하고 'space bar'를 누르면 설정끝\n",
    "    \n",
    "[단계3] 트랙커를 설정하고, 셋팅한다.\n",
    "\n",
    "    - tracker를 선택하고, 만들어준다.\n",
    "    - ROI를 선택한 후에 tracker를 해당 ROI로 지정한다.\n",
    "    \n",
    "[단계4] 이미지를 계속 읽어 가면서, 트랙커가 지정한 부분을 화면에 출력한다.\n",
    "\n",
    "    - tracker의 지정 순서는 left, top, w, h 순서로 읽어온다.\n",
    "    - 사각형을 그릴때는 pt1, pt2를 지정하여 그린다.\n",
    "    - opencv에서 제공하는 트랙커는 아래와 같이 있으며, 각각은 기능이 다르므로 선택하여 사용한다.\n",
    "    \n",
    "        OPENCV_OBJECT_TRACKERS = {\n",
    "          \"csrt\": cv2.TrackerCSRT_create,\n",
    "          \"kcf\": cv2.TrackerKCF_create,\n",
    "          \"boosting\": cv2.TrackerBoosting_create,\n",
    "          \"mil\": cv2.TrackerMIL_create,\n",
    "          \"tld\": cv2.TrackerTLD_create,\n",
    "          \"medianflow\": cv2.TrackerMedianFlow_create,\n",
    "          \"mosse\": cv2.TrackerMOSSE_create\n",
    "        }\n",
    "       \n",
    "   <img src=\"data/tracker.jpg\" width=600px>\n",
    "        \n",
    "       - KCF : 빠르게 작용\n",
    "       - MOSSE: 빠르게 작동\n",
    "       - CSRT: 연산은 느리지만, 강인하게 추적\n",
    "       - GOTURN : 딥러닝 기반, 가중치 파일을 다운받아 저장해야지 작동가능"
   ]
  },
  {
   "cell_type": "code",
   "execution_count": 1,
   "id": "f8ad116e",
   "metadata": {},
   "outputs": [],
   "source": [
    "# 필요한 라이브러리를 로딩한다.\n",
    "\n",
    "import cv2\n",
    "import numpy as np"
   ]
  },
  {
   "cell_type": "code",
   "execution_count": 2,
   "id": "956befad",
   "metadata": {},
   "outputs": [
    {
     "ename": "error",
     "evalue": "OpenCV(4.6.0) D:\\a\\opencv-python\\opencv-python\\opencv\\modules\\imgproc\\src\\color.cpp:182: error: (-215:Assertion failed) !_src.empty() in function 'cv::cvtColor'\n",
     "output_type": "error",
     "traceback": [
      "\u001b[1;31m---------------------------------------------------------------------------\u001b[0m",
      "\u001b[1;31merror\u001b[0m                                     Traceback (most recent call last)",
      "Input \u001b[1;32mIn [2]\u001b[0m, in \u001b[0;36m<cell line: 37>\u001b[1;34m()\u001b[0m\n\u001b[0;32m     40\u001b[0m     exit()\n\u001b[0;32m     42\u001b[0m \u001b[38;5;66;03m#    \u001b[39;00m\n\u001b[1;32m---> 43\u001b[0m success, box \u001b[38;5;241m=\u001b[39m \u001b[43mtracker\u001b[49m\u001b[38;5;241;43m.\u001b[39;49m\u001b[43mupdate\u001b[49m\u001b[43m(\u001b[49m\u001b[43mimg\u001b[49m\u001b[43m)\u001b[49m\n\u001b[0;32m     45\u001b[0m left, top, w, h \u001b[38;5;241m=\u001b[39m [\u001b[38;5;28mint\u001b[39m(v) \u001b[38;5;28;01mfor\u001b[39;00m v \u001b[38;5;129;01min\u001b[39;00m box]\n\u001b[0;32m     47\u001b[0m cv2\u001b[38;5;241m.\u001b[39mrectangle(img, pt1\u001b[38;5;241m=\u001b[39m(left, top), pt2\u001b[38;5;241m=\u001b[39m(left \u001b[38;5;241m+\u001b[39m w, top \u001b[38;5;241m+\u001b[39m h), color\u001b[38;5;241m=\u001b[39m(\u001b[38;5;241m255\u001b[39m,\u001b[38;5;241m255\u001b[39m,\u001b[38;5;241m255\u001b[39m), thickness\u001b[38;5;241m=\u001b[39m\u001b[38;5;241m3\u001b[39m)\n",
      "\u001b[1;31merror\u001b[0m: OpenCV(4.6.0) D:\\a\\opencv-python\\opencv-python\\opencv\\modules\\imgproc\\src\\color.cpp:182: error: (-215:Assertion failed) !_src.empty() in function 'cv::cvtColor'\n"
     ]
    }
   ],
   "source": [
    "# 사용할 비디오 파일을 읽어온다.\n",
    "\n",
    "video_path = 'data/song.mp4'\n",
    "cap = cv2.VideoCapture(video_path)\n",
    "\n",
    "# 비디오가 잘 열렸는지 확인한다.\n",
    "if not cap.isOpened():\n",
    "    exit()\n",
    "    \n",
    "tracker = cv2.TrackerCSRT_create()\n",
    "#ROI를 설정하기 위해 첫번째 프레임을 읽어온다.\n",
    "\n",
    "#img변수에 첫번째 프레임을 읽어온다.\n",
    "ret, img = cap.read()   \n",
    "\n",
    "# 화면에 출력하기 위해 윈도우의 이름을 정해서 읽어오고 화면에 보여준다..\n",
    "cv2.namedWindow('Select Window')\n",
    "cv2.imshow('Select Window', img)\n",
    "\n",
    "\n",
    "# select ROI\n",
    "# showCrosshair: 과녁(특별히 정한점)을 정한다. 정하고 나면 윈도우 닫는다.\n",
    "# 사용법: 첫화면을 읽어오면 마우스 드레그로 ROI를 지정하고 'space bar'를 누르면 설정된다.\n",
    "rect = cv2.selectROI('Select Window', img, fromCenter=False, showCrosshair=True)\n",
    "cv2.destroyWindow('Select Window')\n",
    "\n",
    "\n",
    "#tracker를 초기화 한다.\n",
    "tracker.init(img, rect)\n",
    "\n",
    "\n",
    "# 비디오 파일을 읽어와서 화면에 뿌려준다.\n",
    "# 1ms 정도 기다린 후에 표시해야 윈도우에 잘 표시된다. \n",
    "# 비디오가 나오기를 기다리다가 'q'가 입력되면 윈도우 종료\n",
    "\n",
    "while True:\n",
    "    ret, img = cap.read()\n",
    "    \n",
    "    if not ret:\n",
    "        exit()\n",
    "\n",
    "    #    \n",
    "    success, box = tracker.update(img)\n",
    "    \n",
    "    left, top, w, h = [int(v) for v in box]\n",
    "    \n",
    "    cv2.rectangle(img, pt1=(left, top), pt2=(left + w, top + h), color=(255,255,255), thickness=3)\n",
    "    \n",
    "        \n",
    "    cv2.imshow('img', img)\n",
    "    if cv2.waitKey(1)== ord('q'):\n",
    "        break\n",
    "    \n"
   ]
  },
  {
   "cell_type": "code",
   "execution_count": null,
   "id": "512271ad",
   "metadata": {},
   "outputs": [],
   "source": []
  }
 ],
 "metadata": {
  "kernelspec": {
   "display_name": "Python 3 (ipykernel)",
   "language": "python",
   "name": "python3"
  },
  "language_info": {
   "codemirror_mode": {
    "name": "ipython",
    "version": 3
   },
   "file_extension": ".py",
   "mimetype": "text/x-python",
   "name": "python",
   "nbconvert_exporter": "python",
   "pygments_lexer": "ipython3",
   "version": "3.9.12"
  },
  "toc": {
   "base_numbering": 1,
   "nav_menu": {},
   "number_sections": true,
   "sideBar": true,
   "skip_h1_title": false,
   "title_cell": "Table of Contents",
   "title_sidebar": "Contents",
   "toc_cell": false,
   "toc_position": {},
   "toc_section_display": true,
   "toc_window_display": false
  }
 },
 "nbformat": 4,
 "nbformat_minor": 5
}
